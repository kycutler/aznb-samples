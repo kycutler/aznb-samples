{
 "cells": [
  {
   "cell_type": "markdown",
   "metadata": {
    "nteract": {
     "transient": {
      "deleting": false
     }
    }
   },
   "source": [
    "# This notebook tests various output types\r\n",
    "### Here we are testing Markdown cells (briefly)\r\n",
    "##### \"Run All\" cells to test the rest.\r\n",
    "\r\n",
    "LaTeX:\r\n",
    "$$\r\n",
    "\\LaTeX\\\r\n",
    "e^{\\pi i}+1 = 0\\\r\n",
    "\\thisshouldfail\\\r\n",
    "\\frac{numerator}{denominator}\r\n",
    "$$\r\n",
    "\r\n",
    "Tables:\r\n",
    "\r\n",
    "| sample table heading 1 | sample table heading 2 | sample table heading 3 |\r\n",
    "| :--- | :---: | ---: |\r\n",
    "| left align | center align | right align |\r\n",
    "\r\n",
    "Code:\r\n",
    "```javascript\r\n",
    "// this is javascript code. It should have syntax highlighting\r\n",
    "var x = 1;\r\n",
    "console.log(x + 1);\r\n",
    "```\r\n",
    "\r\n",
    "Scripting (nothing should happen):\r\n",
    "<script>alert(\"This shouldn't happen\")</script>\r\n",
    "<img onload=\"alert('This shouldn\\'t happen')\" />"
   ]
  },
  {
   "cell_type": "markdown",
   "metadata": {
    "nteract": {
     "transient": {
      "deleting": false
     }
    }
   },
   "source": [
    "# Code cell with Markdown output"
   ]
  },
  {
   "cell_type": "code",
   "execution_count": null,
   "metadata": {
    "collapsed": false,
    "jupyter": {
     "outputs_hidden": false,
     "source_hidden": true
    },
    "nteract": {
     "transient": {
      "deleting": false
     }
    }
   },
   "outputs": [],
   "source": [
    "%%markdown\r\n",
    "# Heading 1 with `code`\r\n",
    "## Heading 2\r\n",
    "### Heading 3\r\n",
    "\r\n",
    "LaTeX:\r\n",
    "$$\r\n",
    "\\LaTeX\\\r\n",
    "e^{\\pi i}+1 = 0\\\r\n",
    "\\thisshouldfail\\\r\n",
    "\\frac{numerator}{denominator}\r\n",
    "$$\r\n",
    "\r\n",
    "Tables:\r\n",
    "\r\n",
    "| sample table heading 1 | sample table heading 2 | sample table heading 3 |\r\n",
    "| :--- | :---: | ---: |\r\n",
    "| left align | center align | right align |\r\n",
    "\r\n",
    "Code:\r\n",
    "```javascript\r\n",
    "// this is javascript code. It should have syntax highlighting\r\n",
    "var x = 1;\r\n",
    "console.log(x + 1);\r\n",
    "```\r\n",
    "\r\n",
    "Scripting (nothing should happen):\r\n",
    "<script>alert(\"This shouldn't happen\")</script>\r\n",
    "<img onload=\"alert('This shouldn\\'t happen')\" />"
   ]
  },
  {
   "cell_type": "markdown",
   "metadata": {
    "nteract": {
     "transient": {
      "deleting": false
     }
    }
   },
   "source": [
    "# HTML"
   ]
  },
  {
   "cell_type": "code",
   "execution_count": null,
   "metadata": {
    "collapsed": false,
    "jupyter": {
     "outputs_hidden": false,
     "source_hidden": true
    },
    "nteract": {
     "transient": {
      "deleting": false
     }
    }
   },
   "outputs": [],
   "source": [
    "%%html\r\n",
    "<div>In iframe? (should be true): <b id=\"framed\">unknown</b></div>\r\n",
    "<script>document.getElementById(\"framed\").textContent = document.ownerDocument !== document</script>\r\n",
    "<h1>Large</h1>\r\n",
    "<h3>Medium</h3>\r\n",
    "<h5>Small</h5>\r\n",
    "<table>\r\n",
    "<tr><th>Header 1</th><th>Header 2</th></tr>\r\n",
    "<tr><td>Lorem ipsum dolor sit amet</td><td>Value</td></tr>\r\n",
    "</table>\r\n",
    "<p>This is a paragraph</p>\r\n",
    "<pre><code>multiline code\r\n",
    "this is the second line</code></pre>"
   ]
  },
  {
   "cell_type": "markdown",
   "metadata": {
    "nteract": {
     "transient": {
      "deleting": false
     }
    }
   },
   "source": [
    "# LaTeX"
   ]
  },
  {
   "cell_type": "code",
   "execution_count": null,
   "metadata": {
    "collapsed": false,
    "jupyter": {
     "outputs_hidden": false,
     "source_hidden": true
    },
    "nteract": {
     "transient": {
      "deleting": false
     }
    }
   },
   "outputs": [],
   "source": [
    "%%latex\r\n",
    "\\begin{equation*}\r\n",
    "   e^{\\pi i}+1 = 0\\thisshouldfail\\frac{numerator}{denominator}\r\n",
    "\\end{equation*}"
   ]
  },
  {
   "cell_type": "markdown",
   "metadata": {
    "nteract": {
     "transient": {
      "deleting": false
     }
    }
   },
   "source": [
    "# SVG"
   ]
  },
  {
   "cell_type": "code",
   "execution_count": null,
   "metadata": {
    "collapsed": false,
    "jupyter": {
     "outputs_hidden": false,
     "source_hidden": true
    },
    "nteract": {
     "transient": {
      "deleting": false
     }
    }
   },
   "outputs": [],
   "source": [
    "%%svg\r\n",
    "<svg viewBox=\"-10 -10 120 120\" width=\"100\" xmlns=\"http://www.w3.org/2000/svg\">\r\n",
    "  <ellipse fill-rule=\"evenodd\" cx=\"50\" cy=\"50\" rx=\"50\" ry=\"50\" style=\"stroke: green; stroke-width: 5; fill: none\"/>\r\n",
    "  <path d=\"M30,45 l20,20 l50,-50\" style=\"stroke: blue; stroke-width: 10; fill: none\"/>\r\n",
    "</svg>"
   ]
  },
  {
   "cell_type": "markdown",
   "metadata": {
    "nteract": {
     "transient": {
      "deleting": false
     }
    }
   },
   "source": [
    "# JSON"
   ]
  },
  {
   "cell_type": "code",
   "execution_count": null,
   "metadata": {
    "collapsed": false,
    "gather": {
     "logged": 1603402526436
    },
    "jupyter": {
     "outputs_hidden": false,
     "source_hidden": true
    },
    "nteract": {
     "transient": {
      "deleting": false
     }
    }
   },
   "outputs": [],
   "source": [
    "from IPython.display import JSON\r\n",
    "JSON({\r\n",
    "    \"test\": \"value\",\r\n",
    "    \"array\": [\r\n",
    "        \"some\",\r\n",
    "        \"values\"\r\n",
    "    ]\r\n",
    "})\r\n"
   ]
  },
  {
   "cell_type": "markdown",
   "metadata": {
    "nteract": {
     "transient": {
      "deleting": false
     }
    }
   },
   "source": [
    "# Plotly"
   ]
  },
  {
   "cell_type": "code",
   "execution_count": null,
   "metadata": {
    "collapsed": false,
    "jupyter": {
     "outputs_hidden": true,
     "source_hidden": false
    },
    "nteract": {
     "transient": {
      "deleting": false
     }
    }
   },
   "outputs": [],
   "source": [
    "%pip install plotly"
   ]
  },
  {
   "cell_type": "code",
   "execution_count": null,
   "metadata": {
    "collapsed": false,
    "gather": {
     "logged": 1603402530160
    },
    "jupyter": {
     "outputs_hidden": false,
     "source_hidden": true
    },
    "nteract": {
     "transient": {
      "deleting": false
     }
    }
   },
   "outputs": [],
   "source": [
    "import plotly\r\n",
    "\r\n",
    "try:\r\n",
    "    # plotly v4\r\n",
    "    go = plotly.graph_objects\r\n",
    "except Exception:\r\n",
    "    # plotly v3\r\n",
    "    go = plotly.graph_objs\r\n",
    "\r\n",
    "fig = go.Figure(\r\n",
    "    data=[go.Bar(y=[2, 1, 3])],\r\n",
    "    layout_title_text=\"Plotly version \" + plotly.__version__\r\n",
    "    )\r\n",
    "fig.show()"
   ]
  },
  {
   "cell_type": "markdown",
   "metadata": {
    "nteract": {
     "transient": {
      "deleting": false
     }
    }
   },
   "source": [
    "# VDOM"
   ]
  },
  {
   "cell_type": "code",
   "execution_count": null,
   "metadata": {
    "collapsed": false,
    "jupyter": {
     "outputs_hidden": true,
     "source_hidden": false
    },
    "nteract": {
     "transient": {
      "deleting": false
     }
    }
   },
   "outputs": [],
   "source": [
    "%pip install vdom"
   ]
  },
  {
   "cell_type": "code",
   "execution_count": null,
   "metadata": {
    "collapsed": false,
    "gather": {
     "logged": 1603402533826
    },
    "jupyter": {
     "outputs_hidden": false,
     "source_hidden": true
    },
    "nteract": {
     "transient": {
      "deleting": false
     }
    }
   },
   "outputs": [],
   "source": [
    "from IPython.display import display\r\n",
    "from vdom.helpers import h1, p, img, div, b\r\n",
    "\r\n",
    "display(\r\n",
    "    div(\r\n",
    "        h1('Our Incredibly Declarative Example'),\r\n",
    "        p('Can you believe we wrote this ', b('in Python'), '?'),\r\n",
    "        img(src=\"https://media.giphy.com/media/xUPGcguWZHRC2HyBRS/giphy.gif\"),\r\n",
    "        p('What will ', b('you'), ' create next?'),\r\n",
    "    )\r\n",
    ")"
   ]
  },
  {
   "cell_type": "markdown",
   "metadata": {
    "nteract": {
     "transient": {
      "deleting": false
     }
    }
   },
   "source": [
    "# DataFrame / Data Explorer"
   ]
  },
  {
   "cell_type": "code",
   "execution_count": null,
   "metadata": {
    "collapsed": false,
    "jupyter": {
     "outputs_hidden": true,
     "source_hidden": false
    },
    "nteract": {
     "transient": {
      "deleting": false
     }
    }
   },
   "outputs": [],
   "source": [
    "%pip install pandas"
   ]
  },
  {
   "cell_type": "code",
   "execution_count": null,
   "metadata": {
    "collapsed": false,
    "gather": {
     "logged": 1603402537072
    },
    "jupyter": {
     "outputs_hidden": false,
     "source_hidden": true
    },
    "nteract": {
     "transient": {
      "deleting": false
     }
    }
   },
   "outputs": [],
   "source": [
    "import pandas as pd\r\n",
    "pd.options.display.html.table_schema = True\r\n",
    "pd.options.display.max_rows = None\r\n",
    "\r\n",
    "pd.DataFrame(data={'col1': [1, 2], 'col2': [3, 4]})"
   ]
  },
  {
   "cell_type": "markdown",
   "metadata": {
    "nteract": {
     "transient": {
      "deleting": false
     }
    }
   },
   "source": [
    "# Bokeh"
   ]
  },
  {
   "cell_type": "code",
   "execution_count": null,
   "metadata": {
    "collapsed": false,
    "jupyter": {
     "outputs_hidden": true,
     "source_hidden": false
    },
    "nteract": {
     "transient": {
      "deleting": false
     }
    }
   },
   "outputs": [],
   "source": [
    "%pip install bokeh"
   ]
  },
  {
   "cell_type": "code",
   "execution_count": null,
   "metadata": {
    "collapsed": false,
    "gather": {
     "logged": 1603402541449
    },
    "jupyter": {
     "outputs_hidden": false,
     "source_hidden": true
    },
    "nteract": {
     "transient": {
      "deleting": false
     }
    }
   },
   "outputs": [],
   "source": [
    "from bokeh.plotting import figure \r\n",
    "from bokeh.io import output_notebook, show\r\n",
    "from bokeh.sampledata.autompg import autompg\r\n",
    "from bokeh.models import ColumnDataSource\r\n",
    "from bokeh.layouts import gridplot\r\n",
    "\r\n",
    "output_notebook()\r\n",
    "\r\n",
    "source = ColumnDataSource(autompg)\r\n",
    "\r\n",
    "options = dict(plot_width=200, plot_height=200,\r\n",
    "               tools=\"pan,wheel_zoom,box_zoom,box_select,lasso_select\")\r\n",
    "\r\n",
    "p1 = figure(title=\"MPG by Year\", **options)\r\n",
    "p1.circle(\"yr\", \"mpg\", color=\"blue\", source=source)\r\n",
    "\r\n",
    "p2 = figure(title=\"MPG vs. Displacement\", **options)\r\n",
    "p2.circle(\"mpg\", \"displ\", size=\"cyl\", line_color=\"red\", fill_color=None, source=source)\r\n",
    "\r\n",
    "p = gridplot([[ p1, p2]], toolbar_location=\"right\")\r\n",
    "\r\n",
    "show(p)"
   ]
  },
  {
   "cell_type": "markdown",
   "metadata": {
    "nteract": {
     "transient": {
      "deleting": false
     }
    }
   },
   "source": [
    "# IPyWidgets"
   ]
  },
  {
   "cell_type": "code",
   "execution_count": null,
   "metadata": {
    "collapsed": true,
    "jupyter": {
     "outputs_hidden": true,
     "source_hidden": false
    },
    "nteract": {
     "transient": {
      "deleting": false
     }
    }
   },
   "outputs": [],
   "source": [
    "%pip install ipywidgets"
   ]
  },
  {
   "cell_type": "code",
   "execution_count": null,
   "metadata": {
    "collapsed": false,
    "gather": {
     "logged": 1603402548884
    },
    "jupyter": {
     "outputs_hidden": false,
     "source_hidden": true
    },
    "nteract": {
     "transient": {
      "deleting": false
     }
    }
   },
   "outputs": [],
   "source": [
    "from IPython.display import display\r\n",
    "from ipywidgets import widgets\r\n",
    "\r\n",
    "w = widgets.IntSlider()\r\n",
    "display(w)\r\n",
    "\r\n",
    "a = widgets.FloatText()\r\n",
    "b = widgets.FloatSlider()\r\n",
    "display(a,b)\r\n",
    "\r\n",
    "\r\n",
    "mylink = widgets.jslink((a, 'value'), (b, 'value'))\r\n",
    "\r\n",
    "button = widgets.ToggleButton(\r\n",
    "    value=False,\r\n",
    "    description='Click me',\r\n",
    "    disabled=False,\r\n",
    "    button_style='', # 'success', 'info', 'warning', 'danger' or ''\r\n",
    "    tooltip='Description',\r\n",
    "    icon='check' # (FontAwesome names without the `fa-` prefix)\r\n",
    ")\r\n",
    "\r\n",
    "checkbox = widgets.Checkbox(\r\n",
    "    value=False,\r\n",
    "    description='Check me',\r\n",
    "    disabled=False,\r\n",
    "    indent=False\r\n",
    ")\r\n",
    "\r\n",
    "dropdown = widgets.Dropdown(\r\n",
    "    options=['1', '2', '3'],\r\n",
    "    value='2',\r\n",
    "    description='Number:',\r\n",
    "    disabled=False,\r\n",
    ")\r\n",
    "\r\n",
    "radiobuttons = widgets.RadioButtons(\r\n",
    "    options=['pepperoni', 'pineapple', 'anchovies'],\r\n",
    "#    value='pineapple', # Defaults to 'pineapple'\r\n",
    "#    layout={'width': 'max-content'}, # If the items' names are long\r\n",
    "    description='Pizza topping:',\r\n",
    "    disabled=False\r\n",
    ")\r\n",
    "\r\n",
    "box = widgets.Box(\r\n",
    "    [\r\n",
    "        widgets.Label(value='Pizza topping with a very long label:'),\r\n",
    "        widgets.RadioButtons(\r\n",
    "            options=[\r\n",
    "                'pepperoni',\r\n",
    "                'pineapple',\r\n",
    "                'anchovies',\r\n",
    "                'and the long name that will fit fine and the long name that will fit fine and the long name that will fit fine '\r\n",
    "            ],\r\n",
    "            layout={'width': 'max-content'}\r\n",
    "        )\r\n",
    "    ]\r\n",
    ")\r\n",
    "\r\n",
    "select = widgets.Select(\r\n",
    "    options=['Linux', 'Windows', 'OSX'],\r\n",
    "    value='OSX',\r\n",
    "    # rows=10,\r\n",
    "    description='OS:',\r\n",
    "    disabled=False\r\n",
    ")\r\n",
    "\r\n",
    "label = widgets.Label(value=\"The $m$ in $E=mc^2$:\")\r\n",
    "\r\n",
    "datepicker = widgets.DatePicker(\r\n",
    "    description='Pick a Date',\r\n",
    "    disabled=False\r\n",
    ")\r\n",
    "\r\n",
    "colorpicker = widgets.ColorPicker(\r\n",
    "    concise=False,\r\n",
    "    description='Pick a color',\r\n",
    "    value='blue',\r\n",
    "    disabled=False\r\n",
    ")\r\n",
    "\r\n",
    "display(button, checkbox, dropdown, radiobuttons, box, select, label, datepicker, colorpicker)"
   ]
  },
  {
   "cell_type": "markdown",
   "metadata": {
    "nteract": {
     "transient": {
      "deleting": false
     }
    }
   },
   "source": [
    "# Folium"
   ]
  },
  {
   "cell_type": "code",
   "execution_count": null,
   "metadata": {
    "collapsed": true,
    "jupyter": {
     "outputs_hidden": true,
     "source_hidden": false
    },
    "nteract": {
     "transient": {
      "deleting": false
     }
    }
   },
   "outputs": [],
   "source": [
    "%pip install folium"
   ]
  },
  {
   "cell_type": "code",
   "execution_count": null,
   "metadata": {
    "collapsed": true,
    "gather": {
     "logged": 1603402549805
    },
    "jupyter": {
     "outputs_hidden": false,
     "source_hidden": true
    },
    "nteract": {
     "transient": {
      "deleting": false
     }
    }
   },
   "outputs": [],
   "source": [
    "import folium\r\n",
    "folium.Map(location=[45.5236, -122.6750])"
   ]
  }
 ],
 "metadata": {
  "language_info": {
   "codemirror_mode": {
    "name": "ipython",
    "version": 3
   },
   "file_extension": ".py",
   "mimetype": "text/x-python",
   "name": "python",
   "nbconvert_exporter": "python",
   "pygments_lexer": "ipython3",
   "version": "3.8.3"
  },
  "nteract": {
   "version": "nteract-front-end@1.0.0"
  }
 },
 "nbformat": 4,
 "nbformat_minor": 2
}
