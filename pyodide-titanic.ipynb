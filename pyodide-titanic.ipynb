{
  "cells": [
    {
      "cell_type": "code",
      "source": [
        "import pyodide, micropip, pandas as pd\n",
        "micropip.install(\"regex\")\n",
        "\n",
        "df = pd.read_csv(pyodide.open_url(\"https://raw.githubusercontent.com/pwang347/cdn/master/titanic.csv\"))\n",
        "df"
      ],
      "outputs": [],
      "execution_count": null,
      "metadata": {
        "jupyter": {
          "source_hidden": false,
          "outputs_hidden": false
        },
        "gather": {
          "logged": 1692201900357
        }
      },
      "id": "263f569d-ee38-4cb2-9035-3e26e1821b40"
    }
  ],
  "metadata": {
    "nteract": {
      "version": "nteract-front-end@1.0.0"
    },
    "microsoft": {
      "ms_spell_check": {
        "ms_spell_check_language": "en"
      }
    },
    "language_info": {
      "codemirror_mode": {
        "name": "python",
        "version": 3
      },
      "file_extension": ".py",
      "mimetype": "text/x-python",
      "name": "python",
      "nbconvert_exporter": "python",
      "pygments_lexer": "ipython3",
      "version": "3.8"
    },
    "kernelspec": {
      "name": "python",
      "language": "python",
      "display_name": "Pyolite (preview)"
    },
    "kernel_info": {
      "name": "python"
    }
  },
  "nbformat": 4,
  "nbformat_minor": 5
}